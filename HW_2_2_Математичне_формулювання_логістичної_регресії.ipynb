{
 "cells": [
  {
   "cell_type": "markdown",
   "metadata": {
    "id": "KxRmdyv5CIZe"
   },
   "source": [
    "В цьому домашньому завданні ми реалізуємо логістичну регресію на `numpy`.\n",
    "Ці завдання допоможуть вам ґрунтовно засвоїти основні концепції логістичної регресії та реалізувати їх на практиці 🔥\n",
    "\n",
    "#### Завдання 1: Реалізація функції сигмоїди\n",
    "1. З використанням `numpy` напишіть функцію `sigmoid(z)` для обчислення значення сигмоїди згідно з формулою:\n",
    "   $$\n",
    "   \\sigma(z) = \\frac{1}{1 + e^{-z}}\n",
    "   $$\n",
    "2. Використовуючи цю функцію, обчисліть значення сигмоїди для наступних даних: $ z = [-2, -1, 0, 1, 2] $. Виведіть результат обчислень.\n"
   ]
  },
  {
   "cell_type": "code",
   "execution_count": 4,
   "metadata": {
    "id": "v9ilfXulL2wP"
   },
   "outputs": [
    {
     "data": {
      "text/plain": [
       "array([0.11920292, 0.26894142, 0.5       , 0.73105858, 0.88079708])"
      ]
     },
     "execution_count": 4,
     "metadata": {},
     "output_type": "execute_result"
    }
   ],
   "source": [
    "import numpy as np\n",
    "\n",
    "def sigmoid(z):\n",
    "    sigma = 1 / (1 + np.exp(-z))\n",
    "    return sigma\n",
    "\n",
    "z = np.array([-2, -1, 0, 1, 2])\n",
    "\n",
    "sigmoid(z)"
   ]
  },
  {
   "cell_type": "markdown",
   "metadata": {
    "id": "LVd_jCGNCR1F"
   },
   "source": [
    "\n",
    "\n",
    "#### Завдання 2: Реалізація функції гіпотези для логістичної регресії\n",
    "1. Напишіть функцію `hypothesis(theta, X)`, яка обчислює гіпотезу для логістичної регресії, використовуючи функцію сигмоїди. Формула гіпотези:\n",
    "   $$\n",
    "   h_\\theta(x) = \\sigma(\\theta^T x) = \\frac{1}{1 + e^{-\\theta^T x}}\n",
    "   $$\n",
    "2. Використайте функцію `hypothesis` для обчислення значень гіпотези для наступних даних:\n",
    "   \n",
    "   $\\theta = [0.5, -0.5]$\n",
    "   \n",
    "   $X = \\begin{bmatrix} 1 & 2 \\\\ 1 & -1 \\\\ 1 & 0 \\\\ 1 & 1 \\end{bmatrix}$\n",
    "\n",
    "  Виведіть результат обчислень.\n"
   ]
  },
  {
   "cell_type": "code",
   "execution_count": 5,
   "metadata": {
    "id": "dKDHv-YtL3TA"
   },
   "outputs": [
    {
     "data": {
      "text/plain": [
       "array([0.37754067, 0.73105858, 0.62245933, 0.5       ])"
      ]
     },
     "execution_count": 5,
     "metadata": {},
     "output_type": "execute_result"
    }
   ],
   "source": [
    "def hypothesis(theta, X):\n",
    "    z = np.dot(X, theta)\n",
    "    return sigmoid(z)\n",
    "\n",
    "theta = np.array([0.5, -0.5])\n",
    "X = np.array([[1, 2],\n",
    "              [1, -1],\n",
    "              [1, 0],\n",
    "              [1, 1]])\n",
    "\n",
    "hypothesis(theta, X)"
   ]
  },
  {
   "cell_type": "markdown",
   "metadata": {
    "id": "MWASH4Z4ClTo"
   },
   "source": [
    "#### Завдання 3: Реалізація функції для підрахунку градієнтів фукнції втрат\n",
    "1. Напишіть функцію `compute_gradient(theta, X, y)`, яка обчислює градієнти функції втрат для логістичної регресії. Формула для обчислення градієнта:\n",
    "   $$\n",
    "   \\frac{\\partial L(\\theta)}{\\partial \\theta_j} = \\frac{1}{m} \\sum_{i=1}^{m} \\left[ (h_\\theta(x^{(i)}) - y^{(i)}) x_j^{(i)} \\right]\n",
    "   $$\n",
    "2. Використайте функцію `compute_gradient` для обчислення градієнтів для наступних даних:\n",
    "\n",
    "  $\\theta = [0.5, -0.5]$\n",
    "\n",
    "  $X = \\begin{bmatrix} 1 & 2 \\\\ 1 & -1 \\\\ 1 & 0 \\\\ 1 & 1 \\end{bmatrix}$\n",
    "\n",
    "  $y = [1, 0, 1, 0]$\n",
    "\n",
    "  Виведіть результат обчислень."
   ]
  },
  {
   "cell_type": "code",
   "execution_count": 6,
   "metadata": {
    "id": "0DM4xqZCL32i"
   },
   "outputs": [
    {
     "name": "stdout",
     "output_type": "stream",
     "text": [
      "[ 0.05776464 -0.36899431]\n"
     ]
    }
   ],
   "source": [
    "def compute_gradient(theta, X, y):\n",
    "    m = X.shape[0]\n",
    "    h = hypothesis(theta, X)\n",
    "    gradient = np.zeros(theta.shape)\n",
    "    for i in range(len(theta)):\n",
    "        gradient[i] = (1/m) * np.sum((h - y) * X[:, i])\n",
    "    return gradient\n",
    "\n",
    "y = np.array([1, 0, 1, 0])\n",
    "\n",
    "gradient = compute_gradient(theta, X, y)\n",
    "print(gradient)"
   ]
  },
  {
   "cell_type": "markdown",
   "metadata": {
    "id": "nOtJEtdnC1K9"
   },
   "source": [
    "\n",
    "#### Завдання 4: Реалізація повного батч градієнтного спуску\n",
    "\n",
    "**Задача:**\n",
    "1. Напишіть функцію `full_batch_gradient_descent(X, y, lr=0.1, epochs=100)`, яка реалізує алгоритм Full градієнтного спуску для логістичної регресії. Використовуйте такі формули:\n",
    "   - Гіпотеза: $ h_\\theta(x) = \\sigma(\\theta^T x) $\n",
    "   - Оновлення параметрів: $ \\theta_j := \\theta_j - \\alpha \\frac{\\partial L(\\theta)}{\\partial \\theta_j} $\n",
    "2. Використайте функцію `full_batch_gradient_descent` для обчислення параметрів моделі на наступних даних:\n",
    "\n",
    "  $X = \\begin{bmatrix} 1 & 2 \\\\ 1 & -1 \\\\ 1 & 0 \\\\ 1 & 1 \\end{bmatrix}$\n",
    "\n",
    "  $y = [1, 0, 1, 0]$\n",
    "\n",
    "  Увага! Матриця $X$ вже має стовпець одиниць і передбачається, що це. - стовпець для intercept - параметра зсуву.\n",
    "\n",
    "  Виведіть результат обчислень.\n"
   ]
  },
  {
   "cell_type": "code",
   "execution_count": 7,
   "metadata": {
    "id": "fHtUOTxXL4Yy"
   },
   "outputs": [],
   "source": [
    "def full_batch_gradient_descent(X, y, lr=0.1, epochs=100):\n",
    "    m, n = X.shape\n",
    "    theta = np.zeros(n) \n",
    "    errors = []\n",
    "\n",
    "    for _ in range(epochs):\n",
    "        gradient = compute_gradient(theta, X, y)\n",
    "        theta = theta - lr * gradient\n",
    "        h = hypothesis(theta, X)\n",
    "        loss = -np.mean(y * np.log(h) + (1 - y) * np.log(1 - h))\n",
    "        errors.append(loss)\n",
    "\n",
    "    return theta, errors\n",
    "\n",
    "theta, errors = full_batch_gradient_descent(X, y, lr=0.1, epochs=100)"
   ]
  },
  {
   "cell_type": "code",
   "execution_count": 8,
   "metadata": {},
   "outputs": [
    {
     "name": "stdout",
     "output_type": "stream",
     "text": [
      "[-0.2893693   0.77655125]\n"
     ]
    }
   ],
   "source": [
    "print(theta)"
   ]
  },
  {
   "cell_type": "markdown",
   "metadata": {
    "id": "E4iZV55cE5f3"
   },
   "source": [
    "#### Завдання 5. Обчислення точності моделі\n",
    "\n",
    "1. Напишіть функцію `predict_proba(theta, X)`, яка використовує знайдені параметри $\\theta$ для обчислення ймовірностей належності поточного прикладу з даних до класу $y=1$ на основі значень $\\sigma(\\theta^T x)$.\n",
    "\n",
    "2. Напишіть функцію `predict(theta, X, threshold=0.5)`, яка обчислює клас з передбаченої імовірності належності екземпляра до класу 1 з порогом 0.5. Тобто якщо ймовірність менше 0.5, то передбачаємо клас 0, інакше клас 1.\n",
    "\n",
    "3. Напишіть функцію `accuracy(y_true, y_pred)`, яка обчислює точність моделі, визначивши частку правильно передбачених класів.\n",
    "\n",
    "  Формула метрики Accuracy:\n",
    "  $$\n",
    "  \\text{Accuracy} = \\frac{\\sum_{i=1}^{m} I(\\hat{{y}^{(i)}} = y^{(i)})}{m}\n",
    "  $$\n",
    "\n",
    "  де $\\hat{{y}^{(i)}}$ - передбачене значення класу, $I$ - індикаторна функція (яка дорівнює 1, якщо умова виконується, і 0 - якщо ні), $m$ - кількість прикладів.\n",
    "\n",
    "4. Обчисліть з використанням даних в завданні 4 $X$, $y$ та обчислених коефіцієнтах $\\theta$ та виведіть на екран:\n",
    "  - передбачені моделлю імовірності належності кожного з екземплярів в матриці `X` до класу 1\n",
    "  - класи кожного екземпляра з матриці `X`\n",
    "  - точність моделі."
   ]
  },
  {
   "cell_type": "code",
   "execution_count": 10,
   "metadata": {
    "id": "85ZZfPtjrsai"
   },
   "outputs": [
    {
     "data": {
      "text/plain": [
       "array([0.77966809, 0.25617965, 0.42815828, 0.61944235])"
      ]
     },
     "execution_count": 10,
     "metadata": {},
     "output_type": "execute_result"
    }
   ],
   "source": [
    "def predict_proba(theta, X):\n",
    "    z = np.dot(X, theta)\n",
    "    probabilities = sigmoid(z)  \n",
    "    return probabilities\n",
    "\n",
    "predict_proba(theta, X)"
   ]
  },
  {
   "cell_type": "code",
   "execution_count": 11,
   "metadata": {},
   "outputs": [
    {
     "data": {
      "text/plain": [
       "array([1, 0, 0, 1])"
      ]
     },
     "execution_count": 11,
     "metadata": {},
     "output_type": "execute_result"
    }
   ],
   "source": [
    "def predict(theta, X, threshold=0.5):\n",
    "    probabilities = predict_proba(theta, X)\n",
    "    return (probabilities >= threshold).astype(int)\n",
    "\n",
    "predict(theta, X)"
   ]
  },
  {
   "cell_type": "code",
   "execution_count": 12,
   "metadata": {},
   "outputs": [
    {
     "data": {
      "text/plain": [
       "0.5"
      ]
     },
     "execution_count": 12,
     "metadata": {},
     "output_type": "execute_result"
    }
   ],
   "source": [
    "def accuracy(y_true, y_pred):\n",
    "    return np.mean(y_true == y_pred)\n",
    "\n",
    "y_pred = predict(theta,X)\n",
    "accuracy(y, y_pred)"
   ]
  }
 ],
 "metadata": {
  "colab": {
   "provenance": []
  },
  "kernelspec": {
   "display_name": "Python 3 (ipykernel)",
   "language": "python",
   "name": "python3"
  },
  "language_info": {
   "codemirror_mode": {
    "name": "ipython",
    "version": 3
   },
   "file_extension": ".py",
   "mimetype": "text/x-python",
   "name": "python",
   "nbconvert_exporter": "python",
   "pygments_lexer": "ipython3",
   "version": "3.10.12"
  }
 },
 "nbformat": 4,
 "nbformat_minor": 4
}
