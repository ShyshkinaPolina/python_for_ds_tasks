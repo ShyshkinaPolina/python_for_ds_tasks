{
 "cells": [
  {
   "cell_type": "markdown",
   "metadata": {
    "id": "efug1V4CM0lT"
   },
   "source": [
    "### Завдання 1: Створення матриць та векторів\n",
    "1. Створіть `numpy` вектор `vector` розмірністю 10 з випадковими дійсними значеннями в діапазоні від 0 до 1. Можна скористатись двома альтернативними варіантами:\n",
    "  1. Генерація випадкових чисел з модулем [`random.uniform`](https://docs.python.org/3/library/random.html).\n",
    "  2. Створення вектора з допомогою метода `numpy` [np.random.rand](https://numpy.org/doc/stable/reference/random/generated/numpy.random.rand.html)\n",
    "\n",
    "2. Створіть матрицю `matrix` типу `numpy.array` розмірності 3x3 з наступними значеннями\n",
    "\n",
    "  $$\n",
    "  matrix = \\begin{bmatrix}\n",
    "  11 & 14 & 17 \\\\\n",
    "  20 & 23 & 26 \\\\\n",
    "  29 & 32 & 35\n",
    "  \\end{bmatrix}\n",
    "  $$\n",
    "\n",
    "  будь-яким відомими Вам способом.\n",
    "\n",
    "Виведіть на екран вектор і матрицю, а також їх розміри.\n"
   ]
  },
  {
   "cell_type": "code",
   "execution_count": 26,
   "metadata": {
    "id": "jxA_lG2_VIMe"
   },
   "outputs": [
    {
     "name": "stdout",
     "output_type": "stream",
     "text": [
      "vector:\n",
      " [0.21724963 0.28570241 0.10010304 0.66599325 0.9552081  0.46932472\n",
      " 0.07193543 0.19496467 0.13611687 0.84437213]\n",
      "matrix:\n",
      " [[11 14 17]\n",
      " [20 23 26]\n",
      " [29 32 35]]\n",
      "розмірність вектора (10,)\n",
      "розмірність матриці: (3, 3)\n"
     ]
    }
   ],
   "source": [
    "import numpy as np\n",
    "\n",
    "vector = np.random.rand(10)\n",
    "matrix = np.array([[11, 14, 17],\n",
    "          [20, 23, 26],\n",
    "          [29, 32, 35]])\n",
    "print(\"vector:\\n\", vector)\n",
    "print(\"matrix:\\n\", matrix)\n",
    "print(\"розмірність вектора\", vector.shape)\n",
    "print(\"розмірність матриці:\", matrix.shape)"
   ]
  },
  {
   "cell_type": "markdown",
   "metadata": {
    "id": "TSJ1P4OuOVe2"
   },
   "source": [
    "\n",
    "### Завдання 2: Операції над векторами та матрицями\n",
    "Виконайте кожну з зазначених операцій над зазначеними оʼєктами і виведіть результат на екран:\n",
    "1. Додайте до кожного значення вектора `vector` число 10 і округліть кожне значення до 2 знаків після коми без використання циклів.\n",
    "2. Помножте кожен елемент матриці з першого завдання на 2 без використання циклів.\n",
    "3. Створіть новий вектор, який містить квадрат кожного `vector` без циклів.\n"
   ]
  },
  {
   "cell_type": "code",
   "execution_count": 12,
   "metadata": {
    "id": "nAAojtyUVJXN"
   },
   "outputs": [
    {
     "name": "stdout",
     "output_type": "stream",
     "text": [
      "[[22 28 34]\n",
      " [40 46 52]\n",
      " [58 64 70]]\n",
      "[114.9184 100.8016 112.1481 118.5921 104.8576 118.3744 106.9156 104.6529\n",
      " 114.2761 108.16  ]\n"
     ]
    }
   ],
   "source": [
    "vec = np.round(vector + 10, 2)\n",
    "matrix_2 = 2 * matrix\n",
    "vec_1 = np.square(vec)\n",
    "print(matrix_2)\n",
    "print(vec_1)"
   ]
  },
  {
   "cell_type": "markdown",
   "metadata": {
    "id": "u6RvWVfhPy-k"
   },
   "source": [
    "\n",
    "### Завдання 3: Множення матриць\n",
    "1. Задані дві матриці `A` і `B`розмірностями 3x2 та 2х3. Виконайте їхнє множення, щоб отримати матрицю 2x2. Виведіть результуючу матрицю `result_matrix` на екран.\n",
    "\n",
    "2. Заданий вектор `C` розмірністю 2х1. Подумайте спочатку, яку розмірність Ви отрмаєте, коли домножите `result_matrix` на вектор `C` і який результат буде. А потім виконайте множення і виведіть результат на екран.\n",
    "\n",
    "3. Задана матриця `D` розмірністю 2х2. Подумайте спочатку, яку розмірність Ви отрмаєте, коли домножите `result_matrix` на матрицю `D` і який результат буде. А потім виконайте множення і виведіть результат на екран."
   ]
  },
  {
   "cell_type": "code",
   "execution_count": 13,
   "metadata": {
    "id": "RwXfPzlbSJ44"
   },
   "outputs": [
    {
     "data": {
      "text/plain": [
       "array([[0.18, 0.53],\n",
       "       [0.75, 0.47],\n",
       "       [0.35, 0.21]])"
      ]
     },
     "metadata": {},
     "output_type": "display_data"
    },
    {
     "data": {
      "text/plain": [
       "array([[0.17, 0.58, 0.75],\n",
       "       [0.38, 0.11, 0.15]])"
      ]
     },
     "metadata": {},
     "output_type": "display_data"
    },
    {
     "data": {
      "text/plain": [
       "array([[0],\n",
       "       [1]])"
      ]
     },
     "metadata": {},
     "output_type": "display_data"
    },
    {
     "data": {
      "text/plain": [
       "array([[0, 1],\n",
       "       [1, 0]])"
      ]
     },
     "metadata": {},
     "output_type": "display_data"
    }
   ],
   "source": [
    "A = np.array(\n",
    "    [[0.18, 0.53],\n",
    "     [0.75, 0.47],\n",
    "     [0.35, 0.21]])\n",
    "\n",
    "B = np.array(\n",
    "    [[0.17, 0.58, 0.75],\n",
    "     [0.38, 0.11, 0.15]])\n",
    "\n",
    "C = np.array([[0], [1]])\n",
    "\n",
    "D = np.array([[0,1], [1,0]])\n",
    "\n",
    "display(A, B, C, D)"
   ]
  },
  {
   "cell_type": "code",
   "execution_count": 16,
   "metadata": {
    "id": "z7-boTbhVKkj"
   },
   "outputs": [
    {
     "name": "stdout",
     "output_type": "stream",
     "text": [
      "[[0.7281 0.5202]\n",
      " [0.2034 0.2846]]\n"
     ]
    }
   ],
   "source": [
    "result_matrix = np.dot(B, A)\n",
    "print(result_matrix)"
   ]
  },
  {
   "cell_type": "code",
   "execution_count": 19,
   "metadata": {},
   "outputs": [
    {
     "name": "stdout",
     "output_type": "stream",
     "text": [
      "[[0.5202]\n",
      " [0.2846]]\n"
     ]
    }
   ],
   "source": [
    "matrix_dot_c = np.dot(result_matrix, C)\n",
    "print(matrix_dot_c)"
   ]
  },
  {
   "cell_type": "code",
   "execution_count": 20,
   "metadata": {},
   "outputs": [
    {
     "name": "stdout",
     "output_type": "stream",
     "text": [
      "[[0.5202 0.7281]\n",
      " [0.2846 0.2034]]\n"
     ]
    }
   ],
   "source": [
    "matrix_dot_d = np.dot(result_matrix, D)\n",
    "print(matrix_dot_d)"
   ]
  },
  {
   "cell_type": "markdown",
   "metadata": {
    "id": "wohp0_cxSGpl"
   },
   "source": [
    "\n",
    "### Завдання 4: Транспонування матриць\n",
    "1. Транспонуйте `result_matrix`.\n",
    "2. Зробіть транспонування вектора `vector` і виведіть форму нової структури. Чи бачите ви зміну?\n",
    "3. Використайте операцію `numpy.expand_dims` над вектором `vector` з аргументом axis=1. Запишіть отриманий результат в змінну `column_vector` і виведіть на екран. Порівняйте з `vector`.\n",
    "4. Зробіть транспонування `column_vector`, виведіть результат на екран разом з розмірностями отриманої структури.\n",
    "\n",
    "\n"
   ]
  },
  {
   "cell_type": "code",
   "execution_count": 21,
   "metadata": {
    "id": "4hFcq1baVLii"
   },
   "outputs": [
    {
     "name": "stdout",
     "output_type": "stream",
     "text": [
      "[[0.7281 0.2034]\n",
      " [0.5202 0.2846]]\n"
     ]
    }
   ],
   "source": [
    "print(result_matrix.T)"
   ]
  },
  {
   "cell_type": "code",
   "execution_count": 25,
   "metadata": {},
   "outputs": [
    {
     "name": "stdout",
     "output_type": "stream",
     "text": [
      "vec_t:\n",
      " [0.71649569 0.03647861 0.58927477 0.89396576 0.24125597 0.87932184\n",
      " 0.34288087 0.23493127 0.69201977 0.40452902]\n",
      "форма структури: (10,)\n",
      "column_vector:\n",
      " [[0.71649569]\n",
      " [0.03647861]\n",
      " [0.58927477]\n",
      " [0.89396576]\n",
      " [0.24125597]\n",
      " [0.87932184]\n",
      " [0.34288087]\n",
      " [0.23493127]\n",
      " [0.69201977]\n",
      " [0.40452902]]\n",
      "транспонований вектор:\n",
      " [[0.71649569 0.03647861 0.58927477 0.89396576 0.24125597 0.87932184\n",
      "  0.34288087 0.23493127 0.69201977 0.40452902]]\n",
      "розмірність структури: (1, 10)\n"
     ]
    }
   ],
   "source": [
    "vec_t = vector.T\n",
    "print(\"vec_t:\\n\", vec_t)\n",
    "print(\"форма структури:\", vec_t.shape)\n",
    "column_vector = np.expand_dims(vector, axis=1)\n",
    "print(\"column_vector:\\n\", column_vector)\n",
    "col_v_t = column_vector.T\n",
    "print(\"транспонований вектор:\\n\", col_v_t)\n",
    "print(\"розмірність структури:\", col_v_t.shape)"
   ]
  },
  {
   "cell_type": "markdown",
   "metadata": {},
   "source": [
    "після транспонування вектор став строкою, після операції numpy.expand_dims знову став вектором-стовбцем"
   ]
  }
 ],
 "metadata": {
  "colab": {
   "provenance": []
  },
  "kernelspec": {
   "display_name": "Python 3 (ipykernel)",
   "language": "python",
   "name": "python3"
  },
  "language_info": {
   "codemirror_mode": {
    "name": "ipython",
    "version": 3
   },
   "file_extension": ".py",
   "mimetype": "text/x-python",
   "name": "python",
   "nbconvert_exporter": "python",
   "pygments_lexer": "ipython3",
   "version": "3.10.12"
  }
 },
 "nbformat": 4,
 "nbformat_minor": 4
}
