{
 "cells": [
  {
   "cell_type": "markdown",
   "metadata": {
    "id": "SDhaTqxcWhnP"
   },
   "source": [
    "В цьому домашньому завданні відпрацюємо з вами знання, отримані в модулі зі статистики.\n",
    "\n",
    "**Завдання 1.** Ми обговорили з Вами на лекції, що велика літера Сігма грецького алфавіту позначає в математиці суму. Знайдіть з використанням Python $\\Sigma x$, $\\Sigma x^2$, та $\\Sigma (x-1)^2$ для наступного набору даних:\n",
    "`1 3 4`\n",
    "Виведіть результат кожного обчислення на екран."
   ]
  },
  {
   "cell_type": "markdown",
   "metadata": {
    "id": "B1mgx_IBT0e8"
   },
   "source": [
    "обчислення суми *x*"
   ]
  },
  {
   "cell_type": "code",
   "execution_count": 32,
   "metadata": {},
   "outputs": [
    {
     "name": "stdout",
     "output_type": "stream",
     "text": [
      "8\n"
     ]
    }
   ],
   "source": [
    "result = 0\n",
    "list_0 = [1, 3, 4]\n",
    "for x in list_0:\n",
    "    result += x\n",
    "\n",
    "print(result)"
   ]
  },
  {
   "cell_type": "markdown",
   "metadata": {},
   "source": [
    "обчислення суми *x^2* "
   ]
  },
  {
   "cell_type": "code",
   "execution_count": 28,
   "metadata": {},
   "outputs": [
    {
     "name": "stdout",
     "output_type": "stream",
     "text": [
      "26\n"
     ]
    }
   ],
   "source": [
    "result = 0\n",
    "list_1 = [1, 3, 4]\n",
    "for x in list_1:\n",
    "    result += x**2\n",
    "\n",
    "print(result)"
   ]
  },
  {
   "cell_type": "markdown",
   "metadata": {},
   "source": [
    "обчислення суми *(x-1)^2* "
   ]
  },
  {
   "cell_type": "code",
   "execution_count": 29,
   "metadata": {},
   "outputs": [
    {
     "name": "stdout",
     "output_type": "stream",
     "text": [
      "13\n"
     ]
    }
   ],
   "source": [
    "result = 0\n",
    "list_2 = [1, 3, 4]\n",
    "for x in list_2:\n",
    "    result += (x - 1)**2\n",
    "\n",
    "print(result)"
   ]
  },
  {
   "cell_type": "markdown",
   "metadata": {
    "id": "fa78aW5lhiia"
   },
   "source": [
    "**Завдання 2.** Ми зібрали дані про суму покупок в гривнях 20ма випадково обраними клієнтами в нашому магазині (всього клієнтів у нас більше) за минулий місяць. Вони представлені в змінній `sum_purchases`. Знайдіть **вибіркове середнє** для цих даних кожним з зазначених методів:   \n",
    "\n",
    "  2.1. без використання жодних бібліотек, користуючись тільки Python.  \n",
    "  2.2. використовуючи відповідний метод бібліотеки `numpy`.\n",
    "\n",
    "  Виведіть результат обчислень в кожному з випадків на екран та порівняйте результати. Вони співпадають?"
   ]
  },
  {
   "cell_type": "code",
   "execution_count": 1,
   "metadata": {
    "id": "_9kMt3rq6V5m"
   },
   "outputs": [],
   "source": [
    "sum_purchases = [ 316,  493,  367,  153,  224,  121,  322,  450,  196,  397,  281,\n",
    "  239,  484,  124,  223,  448,  432,  255, 4310, 3524]"
   ]
  },
  {
   "cell_type": "code",
   "execution_count": 30,
   "metadata": {
    "id": "wPmL919HT1c0"
   },
   "outputs": [
    {
     "name": "stdout",
     "output_type": "stream",
     "text": [
      "вибіркове середнє без використання бібліотек: 667.95\n"
     ]
    }
   ],
   "source": [
    "length = len(sum_purchases)\n",
    "mean_x = sum(sum_purchases)/length\n",
    "print(f\"вибіркове середнє без використання бібліотек: {mean_x}\")"
   ]
  },
  {
   "cell_type": "code",
   "execution_count": 18,
   "metadata": {},
   "outputs": [
    {
     "name": "stdout",
     "output_type": "stream",
     "text": [
      "вибіркове середнє без використання бібліотек: 667.95\n"
     ]
    }
   ],
   "source": [
    "import numpy as np\n",
    "\n",
    "print(\"вибіркове середнє використовуючи numpy: \", np.mean(sum_purchases))\n"
   ]
  },
  {
   "cell_type": "markdown",
   "metadata": {},
   "source": [
    "розраховні значення в обох випадках співпадають"
   ]
  },
  {
   "cell_type": "markdown",
   "metadata": {
    "id": "FMdoxZd0kZdW"
   },
   "source": [
    "**Завдання 3.** Для того ж набору даних в змінній `sum_purchases` обчисліть **медіану** кожним з зазначених методів:  \n",
    "\n",
    "  3.1. без використання жодних бібліотек, користуючись тільки Python.  \n",
    "  3.2. використовуючи відповідний метод бібліотеки numpy.  \n",
    "\n",
    "Виведіть результат обчислень в кожному з випадків на екран. Порівняйте результати зі значенням вибіркового середнього. Напишіть коментар, для яких задач ви б використовували вибіркове середнє, а для яких - медіану?"
   ]
  },
  {
   "cell_type": "code",
   "execution_count": 3,
   "metadata": {
    "id": "x58BumvuT2nl"
   },
   "outputs": [
    {
     "name": "stdout",
     "output_type": "stream",
     "text": [
      "[316, 493, 367, 153, 224, 121, 322, 450, 196, 397, 281, 239, 484, 124, 223, 448, 432, 255, 4310, 3524]\n",
      "<class 'type'>\n",
      "Відсортований список: [121, 124, 153, 196, 223, 224, 239, 255, 281, 316, 322, 367, 397, 432, 448, 450, 484, 493, 3524, 4310]\n",
      "9\n",
      "10\n",
      "медіана без використання бібліотек: 319.0\n"
     ]
    }
   ],
   "source": [
    "print(sum_purchases)\n",
    "print(type(list))\n",
    "sorted_purchases = sorted(sum_purchases)\n",
    "print(\"Відсортований список:\", sorted_purchases)\n",
    "\n",
    "mid_1 = len(sorted_purchases) // 2 - 1\n",
    "mid_2 = len(sorted_purchases) // 2\n",
    "\n",
    "mediana = (sorted_purchases[mid_1] + sorted_purchases[mid_2]) / 2\n",
    "print(f\"медіана без використання бібліотек: {mediana}\")"
   ]
  },
  {
   "cell_type": "code",
   "execution_count": 5,
   "metadata": {},
   "outputs": [
    {
     "name": "stdout",
     "output_type": "stream",
     "text": [
      "медіана використовуючи numpy:  319.0\n"
     ]
    }
   ],
   "source": [
    "import numpy as np\n",
    "\n",
    "print(\"медіана використовуючи numpy: \", np.median(sum_purchases))\n"
   ]
  },
  {
   "cell_type": "markdown",
   "metadata": {},
   "source": [
    "розраховні значення в обох випадках співпадають"
   ]
  },
  {
   "cell_type": "markdown",
   "metadata": {},
   "source": [
    "Вибіркове середнє краще використовувати, коли дані нормально розподілені. Воно дає точне середнє значення для таких випадків.\n",
    "\n",
    "Медіану краще використовувати, коли маємо справу з асиметричним розподілом. "
   ]
  },
  {
   "cell_type": "markdown",
   "metadata": {
    "id": "o1Z7az2yNDQV"
   },
   "source": [
    "**Завдання 4**. Обчислість стандартне відхилення наведеної вибірки в змінній `sum_purchases` кожним з зазначених методів:  \n",
    "\n",
    "  4.1. без використання жодних бібліотек, користуючись тільки Python.  \n",
    "  4.2. використовуючи відповідний метод бібліотеки numpy.  \n",
    "\n",
    "Виведіть результат обчислень в кожному з випадків на екран."
   ]
  },
  {
   "cell_type": "code",
   "execution_count": 28,
   "metadata": {
    "id": "X4ixtmL2T642"
   },
   "outputs": [
    {
     "name": "stdout",
     "output_type": "stream",
     "text": [
      "стандартне відхилення  без використання бібліотек: 1264597.7342105266\n"
     ]
    }
   ],
   "source": [
    "sum_minus_mean = [(el - mean_x)**2 for el in sum_purchases]\n",
    "var_x_general = sum(sum_minus_mean)/(len(sum_purchases)-1)\n",
    "print(f\"стандартне відхилення  без використання бібліотек: {var_x_general}\")"
   ]
  },
  {
   "cell_type": "code",
   "execution_count": 12,
   "metadata": {},
   "outputs": [
    {
     "name": "stdout",
     "output_type": "stream",
     "text": [
      "стандартне відхилення   використовуючи numpy:  1264597.7342105266\n"
     ]
    }
   ],
   "source": [
    "import numpy as np\n",
    "\n",
    "print(\"стандартне відхилення   використовуючи numpy: \", np.var(sum_purchases, ddof=1))"
   ]
  },
  {
   "cell_type": "markdown",
   "metadata": {},
   "source": [
    "розраховні значення в обох випадках співпадають"
   ]
  },
  {
   "cell_type": "markdown",
   "metadata": {
    "id": "M1ntKTjXLVlH"
   },
   "source": [
    "**Завдання 5**. Ми провели дослідження віку студентів-першокурсників. Виявилось, що\n",
    "- 10 студентів мають вік 16 років\n",
    "- 25 студентів - 17 років\n",
    "- 20 студентів - 18 років\n",
    "- 2 студенти - 20 років\n",
    "\n",
    "Обчислість середнє значення для цієї вибірки будь-яким способом - на чистому Python або з numpy - та виведіть результат на екран."
   ]
  },
  {
   "cell_type": "code",
   "execution_count": 18,
   "metadata": {
    "id": "RdIU4M-7T8R4"
   },
   "outputs": [
    {
     "name": "stdout",
     "output_type": "stream",
     "text": [
      "[16, 16, 16, 16, 16, 16, 16, 16, 16, 16, 17, 17, 17, 17, 17, 17, 17, 17, 17, 17, 17, 17, 17, 17, 17, 17, 17, 17, 17, 17, 17, 17, 17, 17, 17, 18, 18, 18, 18, 18, 18, 18, 18, 18, 18, 18, 18, 18, 18, 18, 18, 18, 18, 18, 18, 20, 20]\n",
      "17.280701754385966\n"
     ]
    }
   ],
   "source": [
    "h_list = []\n",
    "i, j, t = 0, 0, 0\n",
    "while(i < 10):\n",
    "    h_list.append(16)\n",
    "    i += 1\n",
    "while(j < 25):\n",
    "    h_list.append(17)\n",
    "    j += 1\n",
    "while(t < 20):\n",
    "    h_list.append(18)\n",
    "    t += 1\n",
    "h_list.append(20)\n",
    "h_list.append(20)\n",
    "print(h_list)\n",
    "mid_h = sum(h_list)/len(h_list)\n",
    "print(mid_h)"
   ]
  },
  {
   "cell_type": "markdown",
   "metadata": {},
   "source": [
    "як варіант можна порахувати без створення списку:"
   ]
  },
  {
   "cell_type": "code",
   "execution_count": 20,
   "metadata": {},
   "outputs": [
    {
     "name": "stdout",
     "output_type": "stream",
     "text": [
      "17.280701754385966\n"
     ]
    }
   ],
   "source": [
    "h_sum = 10*16 + 25*17 + 20*18 + 40\n",
    "amount = 10 + 25 + 20 + 2\n",
    "print(h_sum/amount)"
   ]
  },
  {
   "cell_type": "markdown",
   "metadata": {
    "id": "Xx8MFkkVM53z"
   },
   "source": [
    "**Завдання 6**. Крім даних про суму покупок, ми зібрали ще дані про кількість відвідувань кожного з кожного покупця, які знаходяться в змінній `visits`. Обчисліть коефіцієнт кореляції Пірсона для суми покупок і кількості відвідувань кожним з зазначених методів:  \n",
    "\n",
    "  6.1. без використання жодних бібліотек, користуючись тільки Python.  \n",
    "  6.2. використовуючи відповідний метод бібліотеки numpy.  \n",
    "  \n",
    "Виведіть результат на екран. Проаналізуйте результат.\n",
    "\n",
    "Виведіть додатково графік розсіювання викликавши код нижче і зробіть заключення, чи варто щось змінити при підрахунку кореляції, аби коефіцієнт Пірсона показував коректну оцінку лінійної залежності?"
   ]
  },
  {
   "cell_type": "code",
   "execution_count": 22,
   "metadata": {
    "id": "4OIGBT7UOWhO"
   },
   "outputs": [],
   "source": [
    "visits = [ 6,  2, 10,  3,  9,  9,  2,  3,  6,  6, 10,  2,  5, 10,  3,  5,  4,\n",
    "        7,  4,  2]"
   ]
  },
  {
   "cell_type": "code",
   "execution_count": 32,
   "metadata": {
    "id": "YLNF7VbeT97Q"
   },
   "outputs": [
    {
     "name": "stdout",
     "output_type": "stream",
     "text": [
      "кореляція Пірсона  без використання бібліотек: -0.3026584468766646\n"
     ]
    }
   ],
   "source": [
    "std_s_sample = np.sqrt(sum(sum_minus_mean)/(len(sum_purchases)-1))\n",
    "mean_y = sum(visits)/len(visits)\n",
    "v_minus_mean = [(el - mean_y)**2 for el in visits]\n",
    "std_v_sample = np.sqrt(sum(v_minus_mean)/(len(visits)-1))\n",
    "\n",
    "xy = [ (sum_purchases[i] - mean_x)*(visits[i] - mean_y) for i in range(len(sum_purchases))]\n",
    "\n",
    "cov_xy = sum(xy)/(len(sum_purchases)-1)\n",
    "p_cor = cov_xy / (std_s_sample * std_v_sample)\n",
    "\n",
    "print(f\"кореляція Пірсона  без використання бібліотек: {p_cor}\")"
   ]
  },
  {
   "cell_type": "code",
   "execution_count": 26,
   "metadata": {},
   "outputs": [
    {
     "data": {
      "text/plain": [
       "array([[ 1.        , -0.30265845],\n",
       "       [-0.30265845,  1.        ]])"
      ]
     },
     "execution_count": 26,
     "metadata": {},
     "output_type": "execute_result"
    }
   ],
   "source": [
    "np.corrcoef(sum_purchases, visits)"
   ]
  },
  {
   "cell_type": "markdown",
   "metadata": {},
   "source": [
    "Значення -0.3026 вказує на слабку негативну кореляцію між двома змінними. Це означає, що є певна тенденція, при якій одна змінна зменшується, коли інша зростає, але цей зв'язок є досить слабким."
   ]
  },
  {
   "cell_type": "code",
   "execution_count": 27,
   "metadata": {
    "colab": {
     "base_uri": "https://localhost:8080/",
     "height": 472
    },
    "id": "gaeoGA-5Prr1",
    "outputId": "0c910a7f-0e96-449a-881d-1efa453b3c8d"
   },
   "outputs": [
    {
     "data": {
      "image/png": "[encoded data removed]",
      "text/plain": [
       "<Figure size 640x480 with 1 Axes>"
      ]
     },
     "metadata": {},
     "output_type": "display_data"
    }
   ],
   "source": [
    "import matplotlib.pyplot as plt\n",
    "\n",
    "plt.scatter(sum_purchases, visits)\n",
    "plt.title('Scatter Plot of Purchases vs. Visits')\n",
    "plt.xlabel('Sum of Purchases')\n",
    "plt.ylabel('Number of Visits');"
   ]
  },
  {
   "cell_type": "markdown",
   "metadata": {},
   "source": [
    "потрібно очистити дані від викидів аби коефіцієнт Пірсона показував коректну оцінку лінійної залежності"
   ]
  },
  {
   "cell_type": "markdown",
   "metadata": {
    "id": "4pEg0KzSQ6KA"
   },
   "source": [
    "**Завдання 7**. В попередньому завданні ми помітили, що викиди нам заважають отримати \"правдиве\" значення кореляції. Давайте вилучимо записи, які відповідають значенням з викидами в сумі покупок і обчисліть коеф. кореляції. Для цього поставте `threshold`, який дорінює середньому значенню + 2 стандартних вдіхилля суми покупок і всі значення, які більше за нього, будемо вважати викидами (є і інші правила для визначення викидів - з ним и познайомимось пізніше).\n",
    "\n",
    "Вилучіть значення з обох масивів і обчисліть коеф. кореляції Пірсона з допомогою `numpy` для кількості візитів і суми покупок без записів-викидів. Виведіть результат на екран, побудуйте діаграму розсіювання і проаналізуйте результат: що можемо сказати про залежність в даних?"
   ]
  },
  {
   "cell_type": "code",
   "execution_count": null,
   "metadata": {
    "id": "Yj3Yfaf7UBbc"
   },
   "outputs": [],
   "source": []
  }
 ],
 "metadata": {
  "colab": {
   "provenance": []
  },
  "kernelspec": {
   "display_name": "Python 3 (ipykernel)",
   "language": "python",
   "name": "python3"
  },
  "language_info": {
   "codemirror_mode": {
    "name": "ipython",
    "version": 3
   },
   "file_extension": ".py",
   "mimetype": "text/x-python",
   "name": "python",
   "nbconvert_exporter": "python",
   "pygments_lexer": "ipython3",
   "version": "3.10.12"
  }
 },
 "nbformat": 4,
 "nbformat_minor": 4
}
