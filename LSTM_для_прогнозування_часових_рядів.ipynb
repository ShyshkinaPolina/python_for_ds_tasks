{
 "cells": [
  {
   "cell_type": "markdown",
   "metadata": {
    "id": "QVNVsLwJvV9S"
   },
   "source": [
    "Давайте подивимося, як LSTM можна використовувати для побудови нейронної мережі прогнозування часових.\n",
    "\n",
    "Будемо працювати з задачею прогнозування кількості пасажирів міжнародних авіаліній. З цим набором даних ми вже працювали в лекції \"Time Series Analysis\" і ви зможете порівняти результати :)\n",
    "\n",
    "Задача полягає в тому, щоб за заданими роком і місяцем передбачити кількість пасажирів міжнародних авіаліній в одиницях виміру 1,000. Дані охоплюють період з січня 1949 року по грудень 1960 року, тобто 12 років, зі 144 спостереженнями.\n",
    "\n",
    "Це регресійна задача. Тобто, знаючи кількість пасажирів (в тисячах) за останні місяці, можна передбачити, якою буде кількість пасажирів у наступному місяці. Набір даних має лише одну характеристику: \"Кількість пасажирів\" - `Passengers`.\n",
    "\n",
    "Далі вже наведений код для читання даних, але нам їх ще треба буде трошки обробити."
   ]
  },
  {
   "cell_type": "code",
   "execution_count": 1,
   "metadata": {
    "colab": {
     "base_uri": "https://localhost:8080/",
     "height": 238
    },
    "id": "hw3dGYsyluYm",
    "outputId": "a3a3b30e-a1a9-4d28-dd1a-3e5b5e242206"
   },
   "outputs": [
    {
     "data": {
      "text/html": [
       "<div>\n",
       "<style scoped>\n",
       "    .dataframe tbody tr th:only-of-type {\n",
       "        vertical-align: middle;\n",
       "    }\n",
       "\n",
       "    .dataframe tbody tr th {\n",
       "        vertical-align: top;\n",
       "    }\n",
       "\n",
       "    .dataframe thead th {\n",
       "        text-align: right;\n",
       "    }\n",
       "</style>\n",
       "<table border=\"1\" class=\"dataframe\">\n",
       "  <thead>\n",
       "    <tr style=\"text-align: right;\">\n",
       "      <th></th>\n",
       "      <th>Passengers</th>\n",
       "    </tr>\n",
       "    <tr>\n",
       "      <th>Month</th>\n",
       "      <th></th>\n",
       "    </tr>\n",
       "  </thead>\n",
       "  <tbody>\n",
       "    <tr>\n",
       "      <th>1949-01</th>\n",
       "      <td>112</td>\n",
       "    </tr>\n",
       "    <tr>\n",
       "      <th>1949-02</th>\n",
       "      <td>118</td>\n",
       "    </tr>\n",
       "    <tr>\n",
       "      <th>1949-03</th>\n",
       "      <td>132</td>\n",
       "    </tr>\n",
       "    <tr>\n",
       "      <th>1949-04</th>\n",
       "      <td>129</td>\n",
       "    </tr>\n",
       "    <tr>\n",
       "      <th>1949-05</th>\n",
       "      <td>121</td>\n",
       "    </tr>\n",
       "  </tbody>\n",
       "</table>\n",
       "</div>"
      ],
      "text/plain": [
       "         Passengers\n",
       "Month              \n",
       "1949-01         112\n",
       "1949-02         118\n",
       "1949-03         132\n",
       "1949-04         129\n",
       "1949-05         121"
      ]
     },
     "metadata": {},
     "output_type": "display_data"
    }
   ],
   "source": [
    "import pandas as pd\n",
    "import numpy as np\n",
    "from matplotlib import pyplot as plt\n",
    "\n",
    "# Завантаження даних\n",
    "url = \"https://raw.githubusercontent.com/jbrownlee/Datasets/master/airline-passengers.csv\"\n",
    "df = pd.read_csv(url)\n",
    "df.set_index('Month', inplace=True)\n",
    "display(df.head())"
   ]
  },
  {
   "cell_type": "markdown",
   "metadata": {
    "id": "BCcNvF28wSH3"
   },
   "source": [
    "**Завдання 1.** Створіть змінну типу `numpy.ndarray`, яка містить значення кількості пасажирів в форматі `float32`. Такий формат даних нам треба для тренування нейромережі."
   ]
  },
  {
   "cell_type": "code",
   "execution_count": 2,
   "metadata": {
    "id": "7PcJkPAoBOH5"
   },
   "outputs": [
    {
     "name": "stdout",
     "output_type": "stream",
     "text": [
      "<class 'numpy.ndarray'>\n",
      "[112. 118. 132. 129. 121.]\n",
      "float32\n"
     ]
    }
   ],
   "source": [
    "passengers = df['Passengers'].values.astype(np.float32)\n",
    "print(type(passengers))\n",
    "print(passengers[:5])\n",
    "print(passengers.dtype)"
   ]
  },
  {
   "cell_type": "markdown",
   "metadata": {
    "id": "Vms2Pxp1xCrB"
   },
   "source": [
    "Очікуваний результат:\n",
    "```array([112., 118., 132., 129., 121.], dtype=float32)```"
   ]
  },
  {
   "cell_type": "markdown",
   "metadata": {
    "id": "vESTxq-OxLRK"
   },
   "source": [
    "**Завдання 2**. Розбийте дані на тренувальні і валідаційні у співвідношенні 67% йде у тренування, 33 - у валідацію. Памʼятаємо, що ми працюємо з tim series, відповідно, навчаємось на давніших, валідуємось - на новіших."
   ]
  },
  {
   "cell_type": "code",
   "execution_count": 3,
   "metadata": {
    "id": "USpGte_tBPR1"
   },
   "outputs": [
    {
     "name": "stdout",
     "output_type": "stream",
     "text": [
      "train size 96\n",
      "val size 48\n"
     ]
    }
   ],
   "source": [
    "from sklearn.model_selection import train_test_split\n",
    "\n",
    "train, val = train_test_split(passengers, test_size=0.33, shuffle=False)\n",
    "print(\"train size\", len(train))\n",
    "print(\"val size\", len(val))"
   ]
  },
  {
   "cell_type": "markdown",
   "metadata": {
    "id": "YB-e-vEDx3bn"
   },
   "source": [
    "**Завдання 3**.\n",
    "\n",
    "Реалізуйте функцію `create_dataset`, яка перетворить одномірний часовий ряд (набір даних) у формат, придатний для тренування нейромережі.\n",
    "\n",
    "Функція повинна приймати два аргументи:\n",
    "- `dataset` — numpy-масив часового ряду,\n",
    "- `lookback` — кількість попередніх кроків, які використовуватимуться для передбачення.\n",
    "\n",
    "Функція повинна повернути два **тензори** PyTorch:\n",
    "- `X` — набір ознак (вікно попередніх значень),\n",
    "- `y` — цільові значення (наступні після вікна кроки).\n",
    "\n",
    "Дані ми будемо подавати моделі в наступному форматі:\n",
    "`\n",
    "tensor([[112.],\n",
    "        [118.],\n",
    "        [132.],\n",
    "        [129.],\n",
    "        [121.]])\n",
    "`\n",
    "Відповідно першою розмірністю буде йти розмір вхідного батча, а другою - розмір вхіднизх даних і в нас це 1, бо лише одне значення на вході щоразу.\n",
    "\n",
    "Після виконання завдання запустіть код нижче. Ми будемо передбачати на основі кількості пасажирів в попередній день кількість пасажирів в наступний, тому `lookback == 1`."
   ]
  },
  {
   "cell_type": "code",
   "execution_count": 4,
   "metadata": {
    "id": "s5UXOiAHBVwe"
   },
   "outputs": [],
   "source": [
    "import torch\n",
    "\n",
    "def create_dataset(dataset, lookback):\n",
    "    X, y = [], []\n",
    "    for i in range(len(dataset) - lookback):\n",
    "        X.append(dataset[i:i + lookback])\n",
    "        y.append(dataset[i + lookback])\n",
    "    X = torch.tensor(X).unsqueeze(-1)  \n",
    "    y = torch.tensor(y).unsqueeze(-1)  \n",
    "    return X, y\n"
   ]
  },
  {
   "cell_type": "code",
   "execution_count": 5,
   "metadata": {
    "colab": {
     "base_uri": "https://localhost:8080/"
    },
    "id": "dA8FwOfwuPyl",
    "outputId": "b4bd6a9a-f611-4f81-eceb-7c9e17c8dab6"
   },
   "outputs": [
    {
     "name": "stdout",
     "output_type": "stream",
     "text": [
      "torch.Size([95, 1, 1]) torch.Size([95, 1])\n",
      "torch.Size([47, 1, 1]) torch.Size([47, 1])\n"
     ]
    },
    {
     "name": "stderr",
     "output_type": "stream",
     "text": [
      "/tmp/ipykernel_71821/1185838113.py:8: UserWarning: Creating a tensor from a list of numpy.ndarrays is extremely slow. Please consider converting the list to a single numpy.ndarray with numpy.array() before converting to a tensor. (Triggered internally at /pytorch/torch/csrc/utils/tensor_new.cpp:254.)\n",
      "  X = torch.tensor(X).unsqueeze(-1)\n"
     ]
    }
   ],
   "source": [
    "lookback = 1\n",
    "X_train, y_train = create_dataset(train, lookback=lookback)\n",
    "X_test, y_test = create_dataset(val, lookback=lookback)\n",
    "print(X_train.shape, y_train.shape)\n",
    "print(X_test.shape, y_test.shape)"
   ]
  },
  {
   "cell_type": "markdown",
   "metadata": {
    "id": "dvEA-D-SzcWf"
   },
   "source": [
    "Очікуваний результат:\n",
    "```\n",
    "torch.Size([95, 1]) torch.Size([95, 1])\n",
    "torch.Size([47, 1]) torch.Size([47, 1])\n",
    "```"
   ]
  },
  {
   "cell_type": "markdown",
   "metadata": {
    "id": "eeiFJ-jDznj5"
   },
   "source": [
    "**Завдання 4**.\n",
    "\n",
    "Зверніть увагу на розмірності в попередньому завданні. Ми\n",
    "З допомогою модуля `torch.nn` опишіть клас `AirModel`, який є нейронною мережею для прогнозування кількості пасажирів за допомогою LSTM.\n",
    "\n",
    "1. **Конструктор класу** повинен приймати параметри `hidden_size`, `num_layers` та ініціювати шари:\n",
    "   - LSTM-шар з наступними параметрами:\n",
    "     - `input_size` — кожна точка часового ряду є окремим входом,,\n",
    "     - `hidden_size` — заданий в конструкторі класу мережі,\n",
    "     - `num_layers=1` — кількість шарів LSTM, задана в конструкторі мережі,\n",
    "     - `batch_first=True` — визначає, що першим виміром є розмір батчу.\n",
    "   - Лінійний шар (`nn.Linear`) для перетворення виходу LSTM на прогноз однієї точки.\n",
    "\n",
    "2. **Метод forward** повинен виконувати наступні дії:\n",
    "   - Передати вхідний тензор через LSTM-шар і отримати виходи (ігноруючи приховані стани).\n",
    "   - Пропустити вихід LSTM через лінійний шар для отримання остаточного прогнозу.\n",
    "\n",
    "Створіть об'єкт класу `AirModel` зі значеннями параметрів `hidden_size=50`, `num_layers=1` і протестуйте роботу моделі на вхідному тензорі `tensor([[112.]])`. На цьому етапі ми маємо переконатись, що модель здатна генерувати передбачення з рандомно ініційованими вагами."
   ]
  },
  {
   "cell_type": "code",
   "execution_count": 6,
   "metadata": {
    "id": "dcafrsmrDHsz"
   },
   "outputs": [],
   "source": [
    "import torch.nn as nn\n",
    "\n",
    "class AirModel(nn.Module):\n",
    "    def __init__(self, input_size, hidden_size, num_layers):\n",
    "        super(AirModel, self).__init__()\n",
    "        self.hidden_size = hidden_size\n",
    "        self.num_layers = num_layers\n",
    "\n",
    "        self.rnn = nn.LSTM(input_size=input_size,\n",
    "                           hidden_size=hidden_size,\n",
    "                           num_layers=1,\n",
    "                           batch_first=True\n",
    "                          )\n",
    "\n",
    "        self.fc = nn.Linear(hidden_size, 1)\n",
    "\n",
    "    def forward(self, x):\n",
    "        out, _ = self.rnn(x)\n",
    "        out = self.fc(out[:, -1, :])\n",
    "        return out        "
   ]
  },
  {
   "cell_type": "code",
   "execution_count": 7,
   "metadata": {},
   "outputs": [
    {
     "name": "stdout",
     "output_type": "stream",
     "text": [
      "tensor([[0.0334]], grad_fn=<AddmmBackward0>)\n"
     ]
    }
   ],
   "source": [
    "model = AirModel(input_size=1, hidden_size=50, num_layers=1)\n",
    "sample_input = torch.tensor([[[112.]]])\n",
    "output = model(sample_input)\n",
    "print(output)"
   ]
  },
  {
   "cell_type": "markdown",
   "metadata": {
    "id": "-R6zv9nu2tWB"
   },
   "source": [
    "**Завдання 5**.\n",
    "\n",
    "Створіть об'єкт DataLoader для завантаження даних, використовуючи тренувальні вибірки `X_train` та `y_train`. Ваш DataLoader повинен виконувати наступні вимоги:\n",
    "\n",
    "1. Використовувати клас `TensorDataset`, щоб об'єднати тензори ознак `X_train` і цільових значень `y_train`.\n",
    "2. Дані повинні завантажуватися невеликими батчами розміром 8 за допомогою параметра `batch_size`.\n",
    "3. Використовувати параметр `shuffle=True`, щоб дані перемішувалися перед кожною епохою тренування.\n"
   ]
  },
  {
   "cell_type": "code",
   "execution_count": 8,
   "metadata": {
    "id": "WKdkptY7DMAc"
   },
   "outputs": [
    {
     "data": {
      "text/plain": [
       "[tensor([[[135.]],\n",
       " \n",
       "         [[184.]],\n",
       " \n",
       "         [[229.]],\n",
       " \n",
       "         [[277.]],\n",
       " \n",
       "         [[242.]],\n",
       " \n",
       "         [[135.]],\n",
       " \n",
       "         [[194.]],\n",
       " \n",
       "         [[235.]]]),\n",
       " tensor([[125.],\n",
       "         [162.],\n",
       "         [243.],\n",
       "         [317.],\n",
       "         [209.],\n",
       "         [148.],\n",
       "         [196.],\n",
       "         [229.]])]"
      ]
     },
     "execution_count": 8,
     "metadata": {},
     "output_type": "execute_result"
    }
   ],
   "source": [
    "from torch.utils.data import TensorDataset, DataLoader\n",
    "\n",
    "train_ds = TensorDataset(X_train, y_train)\n",
    "batch_size = 8\n",
    "train_dl = DataLoader(train_ds, batch_size, shuffle=True)\n",
    "next(iter(train_dl))"
   ]
  },
  {
   "cell_type": "markdown",
   "metadata": {
    "id": "6ZaGh7IF2nfT"
   },
   "source": [
    "**Завдання 6**.\n",
    "\n",
    "1. Реалізуйте навчання нейронної мережі `AirModel` для прогнозування часових рядів, використовуючи Adam-оптимізатор та функцію втрат MSE (середньоквадратичну похибку).\n",
    "2. Створіть цикл тренування для 2000 епох, у якому на кожній епосі:\n",
    "   - Виконуйте крок тренування моделі (прямий прохід, обчислення похибки, зворотний прохід і оновлення ваг).\n",
    "   - Підраховуйте середню похибку на кожному батчі даних і зберігайте її у списку `losses`.\n",
    "3. Раз на 100 епох проводьте валідацію моделі:\n",
    "   - Перевіряйте модель на тренувальних та тестових даних без оновлення ваг.\n",
    "   - Обчислюйте корінь середньоквадратичної похибки (RMSE) для тренувальної та тестової вибірок і виводьте результати на екран.\n",
    "   \n",
    "**Примітка:**\n",
    "- Використовуйте вже створений `DataLoader` для отримання батчів даних.\n",
    "- Валідацію виконуйте в режимі `eval()`, вимикаючи обчислення градієнтів з `torch.no_grad()`.\n",
    "\n",
    "**Приклад виходу:**\n",
    "```\n",
    "Epoch 0: train RMSE 12.3456, test RMSE 15.6789\n",
    "Epoch 100: train RMSE 9.8765, test RMSE 12.3456\n",
    "...\n",
    "```"
   ]
  },
  {
   "cell_type": "code",
   "execution_count": 11,
   "metadata": {},
   "outputs": [],
   "source": [
    "from tqdm import tqdm\n",
    "\n",
    "\n",
    "def rmse(pred, target):\n",
    "    return torch.sqrt(torch.mean((pred - target) ** 2)).item()\n",
    "\n",
    "def train_model(model, train_dl, test_dl, optimizer, num_epochs=2000, print_every=100):\n",
    "    criterion = nn.MSELoss()\n",
    "    losses = []\n",
    "\n",
    "    for epoch in tqdm(range(num_epochs)):\n",
    "        model.train()\n",
    "        batch_losses = []\n",
    "\n",
    "        for xb, yb in train_dl:\n",
    "            optimizer.zero_grad()\n",
    "            output = model(xb)\n",
    "            loss = criterion(output, yb)\n",
    "            loss.backward()\n",
    "            optimizer.step()\n",
    "            batch_losses.append(loss.item())\n",
    "\n",
    "        epoch_loss = np.mean(batch_losses)\n",
    "        losses.append(epoch_loss)\n",
    "\n",
    "        if epoch % print_every == 0:\n",
    "            model.eval()\n",
    "            with torch.no_grad():\n",
    "                # Обчислення RMSE на train\n",
    "                train_preds, train_targets = [], []\n",
    "                for xb, yb in train_dl:\n",
    "                    pred = model(xb)\n",
    "                    train_preds.append(pred)\n",
    "                    train_targets.append(yb)\n",
    "                train_preds = torch.cat(train_preds)\n",
    "                train_targets = torch.cat(train_targets)\n",
    "                train_rmse = rmse(train_preds, train_targets)\n",
    "\n",
    "                # Обчислення RMSE на test\n",
    "                test_preds, test_targets = [], []\n",
    "                for xb, yb in test_dl:\n",
    "                    pred = model(xb)\n",
    "                    test_preds.append(pred)\n",
    "                    test_targets.append(yb)\n",
    "                test_preds = torch.cat(test_preds)\n",
    "                test_targets = torch.cat(test_targets)\n",
    "                test_rmse = rmse(test_preds, test_targets)\n",
    "\n",
    "                print(f'Epoch {epoch}: train RMSE {train_rmse:.4f}, test RMSE {test_rmse:.4f}')\n",
    "    \n",
    "    return losses"
   ]
  },
  {
   "cell_type": "code",
   "execution_count": 13,
   "metadata": {},
   "outputs": [
    {
     "name": "stderr",
     "output_type": "stream",
     "text": [
      "  1%|▏                                        | 11/2000 [00:00<00:37, 53.39it/s]"
     ]
    },
    {
     "name": "stdout",
     "output_type": "stream",
     "text": [
      "Epoch 0: train RMSE 223.2507, test RMSE 419.5658\n"
     ]
    },
    {
     "name": "stderr",
     "output_type": "stream",
     "text": [
      "  5%|██▏                                     | 109/2000 [00:01<00:31, 60.49it/s]"
     ]
    },
    {
     "name": "stdout",
     "output_type": "stream",
     "text": [
      "Epoch 100: train RMSE 77.9903, test RMSE 245.1905\n"
     ]
    },
    {
     "name": "stderr",
     "output_type": "stream",
     "text": [
      " 10%|████▏                                   | 210/2000 [00:03<00:30, 59.20it/s]"
     ]
    },
    {
     "name": "stdout",
     "output_type": "stream",
     "text": [
      "Epoch 200: train RMSE 75.1848, test RMSE 237.9493\n"
     ]
    },
    {
     "name": "stderr",
     "output_type": "stream",
     "text": [
      " 16%|██████▏                                 | 312/2000 [00:05<00:27, 60.43it/s]"
     ]
    },
    {
     "name": "stdout",
     "output_type": "stream",
     "text": [
      "Epoch 300: train RMSE 71.4366, test RMSE 221.0939\n"
     ]
    },
    {
     "name": "stderr",
     "output_type": "stream",
     "text": [
      " 20%|████████▏                               | 409/2000 [00:06<00:26, 60.16it/s]"
     ]
    },
    {
     "name": "stdout",
     "output_type": "stream",
     "text": [
      "Epoch 400: train RMSE 71.1492, test RMSE 215.2320\n"
     ]
    },
    {
     "name": "stderr",
     "output_type": "stream",
     "text": [
      " 26%|██████████▏                             | 512/2000 [00:08<00:24, 59.73it/s]"
     ]
    },
    {
     "name": "stdout",
     "output_type": "stream",
     "text": [
      "Epoch 500: train RMSE 71.1491, test RMSE 215.1265\n"
     ]
    },
    {
     "name": "stderr",
     "output_type": "stream",
     "text": [
      " 30%|████████████▏                           | 608/2000 [00:10<00:27, 51.52it/s]"
     ]
    },
    {
     "name": "stdout",
     "output_type": "stream",
     "text": [
      "Epoch 600: train RMSE 71.1492, test RMSE 214.9718\n"
     ]
    },
    {
     "name": "stderr",
     "output_type": "stream",
     "text": [
      " 35%|██████████████▏                         | 709/2000 [00:12<00:24, 53.38it/s]"
     ]
    },
    {
     "name": "stdout",
     "output_type": "stream",
     "text": [
      "Epoch 700: train RMSE 71.1494, test RMSE 215.2886\n"
     ]
    },
    {
     "name": "stderr",
     "output_type": "stream",
     "text": [
      " 40%|████████████████▏                       | 807/2000 [00:14<00:19, 60.32it/s]"
     ]
    },
    {
     "name": "stdout",
     "output_type": "stream",
     "text": [
      "Epoch 800: train RMSE 71.1496, test RMSE 214.8527\n"
     ]
    },
    {
     "name": "stderr",
     "output_type": "stream",
     "text": [
      " 46%|██████████████████▏                     | 912/2000 [00:15<00:18, 59.95it/s]"
     ]
    },
    {
     "name": "stdout",
     "output_type": "stream",
     "text": [
      "Epoch 900: train RMSE 71.1496, test RMSE 214.8674\n"
     ]
    },
    {
     "name": "stderr",
     "output_type": "stream",
     "text": [
      " 51%|███████████████████▋                   | 1011/2000 [00:17<00:17, 56.40it/s]"
     ]
    },
    {
     "name": "stdout",
     "output_type": "stream",
     "text": [
      "Epoch 1000: train RMSE 71.1492, test RMSE 215.2053\n"
     ]
    },
    {
     "name": "stderr",
     "output_type": "stream",
     "text": [
      " 56%|█████████████████████▋                 | 1113/2000 [00:19<00:14, 60.78it/s]"
     ]
    },
    {
     "name": "stdout",
     "output_type": "stream",
     "text": [
      "Epoch 1100: train RMSE 71.1492, test RMSE 214.9712\n"
     ]
    },
    {
     "name": "stderr",
     "output_type": "stream",
     "text": [
      " 61%|███████████████████████▌               | 1211/2000 [00:20<00:12, 60.84it/s]"
     ]
    },
    {
     "name": "stdout",
     "output_type": "stream",
     "text": [
      "Epoch 1200: train RMSE 71.1494, test RMSE 215.2893\n"
     ]
    },
    {
     "name": "stderr",
     "output_type": "stream",
     "text": [
      " 65%|█████████████████████████▌             | 1308/2000 [00:22<00:12, 53.31it/s]"
     ]
    },
    {
     "name": "stdout",
     "output_type": "stream",
     "text": [
      "Epoch 1300: train RMSE 71.1502, test RMSE 215.4730\n"
     ]
    },
    {
     "name": "stderr",
     "output_type": "stream",
     "text": [
      " 70%|███████████████████████████▍           | 1407/2000 [00:24<00:12, 48.59it/s]"
     ]
    },
    {
     "name": "stdout",
     "output_type": "stream",
     "text": [
      "Epoch 1400: train RMSE 71.1491, test RMSE 215.0712\n"
     ]
    },
    {
     "name": "stderr",
     "output_type": "stream",
     "text": [
      " 75%|█████████████████████████████▍         | 1507/2000 [00:26<00:10, 49.13it/s]"
     ]
    },
    {
     "name": "stdout",
     "output_type": "stream",
     "text": [
      "Epoch 1500: train RMSE 71.1491, test RMSE 215.1172\n"
     ]
    },
    {
     "name": "stderr",
     "output_type": "stream",
     "text": [
      " 80%|███████████████████████████████▎       | 1606/2000 [00:28<00:09, 39.44it/s]"
     ]
    },
    {
     "name": "stdout",
     "output_type": "stream",
     "text": [
      "Epoch 1600: train RMSE 71.1491, test RMSE 215.1067\n"
     ]
    },
    {
     "name": "stderr",
     "output_type": "stream",
     "text": [
      " 85%|█████████████████████████████████▎     | 1708/2000 [00:31<00:07, 40.77it/s]"
     ]
    },
    {
     "name": "stdout",
     "output_type": "stream",
     "text": [
      "Epoch 1700: train RMSE 71.1491, test RMSE 215.0285\n"
     ]
    },
    {
     "name": "stderr",
     "output_type": "stream",
     "text": [
      " 90%|███████████████████████████████████▎   | 1808/2000 [00:33<00:03, 50.62it/s]"
     ]
    },
    {
     "name": "stdout",
     "output_type": "stream",
     "text": [
      "Epoch 1800: train RMSE 71.1491, test RMSE 215.1501\n"
     ]
    },
    {
     "name": "stderr",
     "output_type": "stream",
     "text": [
      " 96%|█████████████████████████████████████▏ | 1910/2000 [00:35<00:01, 50.09it/s]"
     ]
    },
    {
     "name": "stdout",
     "output_type": "stream",
     "text": [
      "Epoch 1900: train RMSE 71.1492, test RMSE 214.9833\n"
     ]
    },
    {
     "name": "stderr",
     "output_type": "stream",
     "text": [
      "\n",
      "00%|███████████████████████████████████████| 2000/2000 [00:37<00:00, 53.85it/s]"
     ]
    }
   ],
   "source": [
    "optimizer = torch.optim.Adam(model.parameters(), lr=0.01)\n",
    "\n",
    "test_ds = TensorDataset(X_test, y_test)\n",
    "test_dl = DataLoader(test_ds, batch_size, shuffle=False)\n",
    "losses = train_model(model, train_dl, test_dl, optimizer, num_epochs=2000)"
   ]
  },
  {
   "cell_type": "markdown",
   "metadata": {
    "id": "m0sIo4kp5X_s"
   },
   "source": [
    "**Завдання 7.** Побудуйте графік лосів. Зробіть висновок з графіку, чи навчилась модель?"
   ]
  },
  {
   "cell_type": "markdown",
   "metadata": {},
   "source": [
    "Модель не навчилася"
   ]
  },
  {
   "cell_type": "code",
   "execution_count": 15,
   "metadata": {
    "id": "AS2USLRq76up"
   },
   "outputs": [
    {
     "data": {
      "image/png": "[encoded data removed]",
      "text/plain": [
       "<Figure size 640x480 with 1 Axes>"
      ]
     },
     "metadata": {},
     "output_type": "display_data"
    }
   ],
   "source": [
    "plt.plot(losses);"
   ]
  },
  {
   "cell_type": "markdown",
   "metadata": {
    "id": "8eBoUQVB5p0h"
   },
   "source": [
    "Модель навчилась, але не факт, що точно)"
   ]
  },
  {
   "cell_type": "markdown",
   "metadata": {
    "id": "-vCiGfQw7sEK"
   },
   "source": [
    "Доволі неочікувано, що середньоквадратичне відхилення тестового набору даних буде на порядок більшим за одиниці в нашому наборі даних. Середньоквадратичне відхилення 100 означає, що прогноз і фактичне значення будуть відрізнятися в середньому на 100 (тобто, 100 000 пасажирів у цьому наборі даних).\n",
    "\n"
   ]
  },
  {
   "cell_type": "markdown",
   "metadata": {
    "id": "bgtO7NZh77vU"
   },
   "source": [
    "Щоб краще зрозуміти якість прогнозу, ви можете побудувати графік з кодом нижче (а ще нижче - описано, що відбувається в цьому коді, бо це теж корисно зрозуміти):"
   ]
  },
  {
   "cell_type": "code",
   "execution_count": 16,
   "metadata": {},
   "outputs": [],
   "source": [
    "pas = torch.tensor(df['Passengers'].values)"
   ]
  },
  {
   "cell_type": "code",
   "execution_count": 17,
   "metadata": {
    "id": "ZznU2AK0vES5"
   },
   "outputs": [
    {
     "data": {
      "image/png": "[encoded data removed]",
      "text/plain": [
       "<Figure size 640x480 with 1 Axes>"
      ]
     },
     "metadata": {},
     "output_type": "display_data"
    }
   ],
   "source": [
    "def plot_predicts(model, X_train, X_test, timeseries, lookback):\n",
    "  train_size = len(X_train)\n",
    "  with torch.no_grad():\n",
    "      # Зсув прогнозів для тренувальних даних\n",
    "      train_plot = np.ones_like(timeseries) * np.nan\n",
    "      y_pred = model(X_train)\n",
    "      y_pred = y_pred[:, -1]\n",
    "      train_plot[lookback:lookback+train_size] = model(X_train)[:, -1]\n",
    "\n",
    "      # Зсув прогнозів для тестових даних\n",
    "      test_plot = np.ones_like(timeseries) * np.nan\n",
    "      test_plot[train_size+lookback:train_size+lookback+len(X_test)] = model(X_test)[:, -1]\n",
    "\n",
    "  # Візуалізація результатів\n",
    "  plt.plot(timeseries, c='b')  # Реальні дані\n",
    "  plt.plot(train_plot, c='r')  # Прогнози на тренувальних даних\n",
    "  plt.plot(test_plot, c='g')   # Прогнози на тестових даних\n",
    "  plt.show()\n",
    "\n",
    "plot_predicts(model, X_train, X_test, pas, lookback)"
   ]
  },
  {
   "cell_type": "code",
   "execution_count": 14,
   "metadata": {},
   "outputs": [
    {
     "name": "stdout",
     "output_type": "stream",
     "text": [
      "Sample predictions: [214.61273 214.61273 214.61273 214.61273 214.61273 214.61273 214.61273\n",
      " 214.61273 214.61273 214.61273]\n",
      "Std of predictions: 4.5776367e-05\n"
     ]
    }
   ],
   "source": [
    "\n",
    "model.eval()\n",
    "with torch.no_grad():\n",
    "    preds = model(X_test).squeeze().numpy()\n",
    "    print(\"Sample predictions:\", preds[:10])\n",
    "    print(\"Std of predictions:\", np.std(preds))"
   ]
  },
  {
   "cell_type": "markdown",
   "metadata": {},
   "source": [
    "**Що відбувається в коді вище.** В цьому коді здійснюється процес прогнозування часових рядів за допомогою LSTM моделі, а також виведення графіку, який показує реальні значення, тренувальні та тестові прогнози. Ось що відбувається на кожному етапі:\n",
    "\n",
    "1. **`torch.no_grad()`**: Цей контекстний менеджер вимикає обчислення градієнтів, що означає, що під час прогнозування не будуть зберігатися проміжні обчислення для зворотного проходу (backpropagation). Це підвищує ефективність під час прогнозування і зменшує використання пам'яті.\n",
    "\n",
    "2. **Зсув прогнозів для тренувальних даних:**\n",
    "   - Створюється масив `train_plot`, який має такий самий розмір, як і часовий ряд (`timeseries`), і заповнюється значеннями NaN (`np.nan`), щоб залишити місце для реальних значень.\n",
    "   - Модель передбачає виходи для тренувальних даних `X_train`.\n",
    "   - Використовується лише останнє передбачене значення для кожного входу LSTM (`y_pred[:, -1]`).\n",
    "   - Прогнози зсуваються, починаючи з індексу `lookback` до кінця тренувальних даних (індекс `train_size`). Цей зсув потрібен, щоб зробити прогноз на основі попередніх даних і відобразити його на правильній частині графіку.\n",
    "\n",
    "3. **Зсув прогнозів для тестових даних:**\n",
    "   - Створюється масив `test_plot`, який також заповнюється NaN.\n",
    "   - Прогнози для тестових даних додаються з індексу `train_size + lookback` до кінця реальних даних, щоб відобразити, де модель починає прогнозувати тестову вибірку.\n",
    "\n",
    "4. **Побудова графіка:**\n",
    "   - `plt.plot(timeseries, c='b')`: Виводить реальні значення часового ряду (синя лінія).\n",
    "   - `plt.plot(train_plot, c='r')`: Виводить тренувальні прогнози (червона лінія).\n",
    "   - `plt.plot(test_plot, c='g')`: Виводить тестові прогнози (зелена лінія).\n",
    "\n",
    "**Чому це робиться:**\n",
    "- Зсув прогнозів для тренувальних і тестових даних дозволяє візуально зрівняти, наскільки добре модель прогнозує як на тренувальній, так і на тестовій вибірках. Зазвичай, червона лінія (тренувальні прогнози) повинна точно відповідати синій лінії (реальні дані), а зелена лінія (тестові прогнози) дає змогу побачити, наскільки модель добре працює на нових даних, яких вона раніше не бачила."
   ]
  },
  {
   "cell_type": "markdown",
   "metadata": {
    "id": "PhoeHLus-xIr"
   },
   "source": [
    "**Завдання 8**. Навчіть модель з hidden_size=100 та порівняйте результати прогнозів з попередніми."
   ]
  },
  {
   "cell_type": "code",
   "execution_count": 18,
   "metadata": {
    "id": "92032N_E_PxY"
   },
   "outputs": [],
   "source": [
    "model_1 = AirModel(input_size=1, hidden_size=100, num_layers=1)"
   ]
  },
  {
   "cell_type": "code",
   "execution_count": 19,
   "metadata": {},
   "outputs": [
    {
     "name": "stderr",
     "output_type": "stream",
     "text": [
      "  0%|▏                                        | 10/2000 [00:00<00:40, 49.61it/s]"
     ]
    },
    {
     "name": "stdout",
     "output_type": "stream",
     "text": [
      "Epoch 0: train RMSE 71.1494, test RMSE 214.9220\n"
     ]
    },
    {
     "name": "stderr",
     "output_type": "stream",
     "text": [
      "  6%|██▏                                     | 111/2000 [00:01<00:33, 56.85it/s]"
     ]
    },
    {
     "name": "stdout",
     "output_type": "stream",
     "text": [
      "Epoch 100: train RMSE 71.1491, test RMSE 215.0822\n"
     ]
    },
    {
     "name": "stderr",
     "output_type": "stream",
     "text": [
      " 10%|████▏                                   | 210/2000 [00:03<00:29, 60.19it/s]"
     ]
    },
    {
     "name": "stdout",
     "output_type": "stream",
     "text": [
      "Epoch 200: train RMSE 71.1492, test RMSE 215.0004\n"
     ]
    },
    {
     "name": "stderr",
     "output_type": "stream",
     "text": [
      " 15%|██████▏                                 | 307/2000 [00:05<00:28, 59.25it/s]"
     ]
    },
    {
     "name": "stdout",
     "output_type": "stream",
     "text": [
      "Epoch 300: train RMSE 71.1491, test RMSE 215.1897\n"
     ]
    },
    {
     "name": "stderr",
     "output_type": "stream",
     "text": [
      " 20%|████████▏                               | 410/2000 [00:06<00:26, 59.76it/s]"
     ]
    },
    {
     "name": "stdout",
     "output_type": "stream",
     "text": [
      "Epoch 400: train RMSE 71.1494, test RMSE 214.9189\n"
     ]
    },
    {
     "name": "stderr",
     "output_type": "stream",
     "text": [
      " 26%|██████████▎                             | 513/2000 [00:08<00:24, 59.98it/s]"
     ]
    },
    {
     "name": "stdout",
     "output_type": "stream",
     "text": [
      "Epoch 500: train RMSE 71.1491, test RMSE 215.0273\n"
     ]
    },
    {
     "name": "stderr",
     "output_type": "stream",
     "text": [
      " 30%|████████████▏                           | 607/2000 [00:10<00:23, 59.26it/s]"
     ]
    },
    {
     "name": "stdout",
     "output_type": "stream",
     "text": [
      "Epoch 600: train RMSE 71.1492, test RMSE 214.9749\n"
     ]
    },
    {
     "name": "stderr",
     "output_type": "stream",
     "text": [
      " 35%|██████████████                          | 706/2000 [00:11<00:23, 54.69it/s]"
     ]
    },
    {
     "name": "stdout",
     "output_type": "stream",
     "text": [
      "Epoch 700: train RMSE 71.1492, test RMSE 214.9874\n"
     ]
    },
    {
     "name": "stderr",
     "output_type": "stream",
     "text": [
      " 40%|████████████████▏                       | 810/2000 [00:13<00:22, 53.62it/s]"
     ]
    },
    {
     "name": "stdout",
     "output_type": "stream",
     "text": [
      "Epoch 800: train RMSE 71.1501, test RMSE 214.7431\n"
     ]
    },
    {
     "name": "stderr",
     "output_type": "stream",
     "text": [
      " 46%|██████████████████▏                     | 911/2000 [00:15<00:18, 58.42it/s]"
     ]
    },
    {
     "name": "stdout",
     "output_type": "stream",
     "text": [
      "Epoch 900: train RMSE 71.1492, test RMSE 215.2144\n"
     ]
    },
    {
     "name": "stderr",
     "output_type": "stream",
     "text": [
      " 51%|███████████████████▋                   | 1011/2000 [00:17<00:19, 50.71it/s]"
     ]
    },
    {
     "name": "stdout",
     "output_type": "stream",
     "text": [
      "Epoch 1000: train RMSE 71.1492, test RMSE 214.9661\n"
     ]
    },
    {
     "name": "stderr",
     "output_type": "stream",
     "text": [
      " 55%|█████████████████████▌                 | 1107/2000 [00:19<00:18, 48.07it/s]"
     ]
    },
    {
     "name": "stdout",
     "output_type": "stream",
     "text": [
      "Epoch 1100: train RMSE 71.1491, test RMSE 215.1097\n"
     ]
    },
    {
     "name": "stderr",
     "output_type": "stream",
     "text": [
      " 60%|███████████████████████▌               | 1206/2000 [00:21<00:23, 34.12it/s]"
     ]
    },
    {
     "name": "stdout",
     "output_type": "stream",
     "text": [
      "Epoch 1200: train RMSE 71.1491, test RMSE 215.0485\n"
     ]
    },
    {
     "name": "stderr",
     "output_type": "stream",
     "text": [
      " 65%|█████████████████████████▍             | 1307/2000 [00:23<00:14, 47.49it/s]"
     ]
    },
    {
     "name": "stdout",
     "output_type": "stream",
     "text": [
      "Epoch 1300: train RMSE 71.1493, test RMSE 214.9552\n"
     ]
    },
    {
     "name": "stderr",
     "output_type": "stream",
     "text": [
      " 70%|███████████████████████████▍           | 1407/2000 [00:25<00:12, 47.13it/s]"
     ]
    },
    {
     "name": "stdout",
     "output_type": "stream",
     "text": [
      "Epoch 1400: train RMSE 71.1502, test RMSE 214.7268\n"
     ]
    },
    {
     "name": "stderr",
     "output_type": "stream",
     "text": [
      " 75%|█████████████████████████████▍         | 1508/2000 [00:27<00:10, 48.69it/s]"
     ]
    },
    {
     "name": "stdout",
     "output_type": "stream",
     "text": [
      "Epoch 1500: train RMSE 71.1492, test RMSE 215.1922\n"
     ]
    },
    {
     "name": "stderr",
     "output_type": "stream",
     "text": [
      " 80%|███████████████████████████████▎       | 1608/2000 [00:29<00:08, 47.49it/s]"
     ]
    },
    {
     "name": "stdout",
     "output_type": "stream",
     "text": [
      "Epoch 1600: train RMSE 71.1494, test RMSE 214.9133\n"
     ]
    },
    {
     "name": "stderr",
     "output_type": "stream",
     "text": [
      " 85%|█████████████████████████████████▎     | 1709/2000 [00:32<00:06, 47.55it/s]"
     ]
    },
    {
     "name": "stdout",
     "output_type": "stream",
     "text": [
      "Epoch 1700: train RMSE 71.1491, test RMSE 215.1550\n"
     ]
    },
    {
     "name": "stderr",
     "output_type": "stream",
     "text": [
      " 91%|███████████████████████████████████▎   | 1811/2000 [00:34<00:03, 49.31it/s]"
     ]
    },
    {
     "name": "stdout",
     "output_type": "stream",
     "text": [
      "Epoch 1800: train RMSE 71.1493, test RMSE 215.2627\n"
     ]
    },
    {
     "name": "stderr",
     "output_type": "stream",
     "text": [
      " 95%|█████████████████████████████████████▏ | 1906/2000 [00:36<00:02, 43.40it/s]"
     ]
    },
    {
     "name": "stdout",
     "output_type": "stream",
     "text": [
      "Epoch 1900: train RMSE 71.1491, test RMSE 215.1802\n"
     ]
    },
    {
     "name": "stderr",
     "output_type": "stream",
     "text": [
      "\n",
      "00%|███████████████████████████████████████| 2000/2000 [00:38<00:00, 51.84it/s]"
     ]
    }
   ],
   "source": [
    "losses_2 = train_model(model, train_dl, test_dl, optimizer, num_epochs=2000)"
   ]
  },
  {
   "cell_type": "code",
   "execution_count": 53,
   "metadata": {},
   "outputs": [
    {
     "data": {
      "image/png": "[encoded data removed]",
      "text/plain": [
       "<Figure size 640x480 with 1 Axes>"
      ]
     },
     "metadata": {},
     "output_type": "display_data"
    }
   ],
   "source": [
    "plt.plot(losses);"
   ]
  },
  {
   "cell_type": "code",
   "execution_count": 20,
   "metadata": {},
   "outputs": [
    {
     "data": {
      "image/png": "[encoded data removed]",
      "text/plain": [
       "<Figure size 640x480 with 1 Axes>"
      ]
     },
     "metadata": {},
     "output_type": "display_data"
    }
   ],
   "source": [
    "\n",
    "\n",
    "plot_predicts(model_1, X_train, X_test, pas, lookback)"
   ]
  }
 ],
 "metadata": {
  "colab": {
   "provenance": []
  },
  "kernelspec": {
   "display_name": "Python 3 (ipykernel)",
   "language": "python",
   "name": "python3"
  },
  "language_info": {
   "codemirror_mode": {
    "name": "ipython",
    "version": 3
   },
   "file_extension": ".py",
   "mimetype": "text/x-python",
   "name": "python",
   "nbconvert_exporter": "python",
   "pygments_lexer": "ipython3",
   "version": "3.10.12"
  }
 },
 "nbformat": 4,
 "nbformat_minor": 4
}
